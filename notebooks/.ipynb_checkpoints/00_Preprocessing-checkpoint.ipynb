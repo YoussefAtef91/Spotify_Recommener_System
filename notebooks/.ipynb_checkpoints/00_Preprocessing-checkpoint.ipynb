{
 "cells": [
  {
   "cell_type": "code",
   "execution_count": 1,
   "id": "5cc428a9",
   "metadata": {
    "id": "5cc428a9"
   },
   "outputs": [],
   "source": [
    "import pandas as pd\n",
    "import numpy as np\n",
    "import matplotlib.pyplot as plt\n",
    "import seaborn as sns\n",
    "from tqdm import tqdm\n",
    "import ast\n",
    "import pickle\n",
    "import os\n",
    "from dotenv import load_dotenv\n",
    "from collections import Counter\n",
    "from imblearn.over_sampling import ADASYN\n",
    "from imblearn.under_sampling import RandomUnderSampler\n",
    "from sklearn.preprocessing import StandardScaler, MultiLabelBinarizer\n",
    "\n",
    "import spotipy\n",
    "from spotipy.oauth2 import SpotifyClientCredentials\n",
    "\n",
    "import warnings\n",
    "warnings.simplefilter('ignore')\n",
    "pd.set_option('display.float_format', lambda x: '%.5f' % x)"
   ]
  },
  {
   "cell_type": "code",
   "execution_count": 2,
   "id": "d74b8896",
   "metadata": {
    "id": "d74b8896"
   },
   "outputs": [],
   "source": [
    "load_dotenv()\n",
    "client_id = os.getenv('client_id')\n",
    "secret_id = os.getenv('secret_id')"
   ]
  },
  {
   "cell_type": "code",
   "execution_count": 3,
   "id": "abfba976",
   "metadata": {
    "id": "abfba976"
   },
   "outputs": [],
   "source": [
    "auth_manager = SpotifyClientCredentials(client_id=client_id, client_secret=secret_id)\n",
    "sp = spotipy.Spotify(auth_manager=auth_manager)"
   ]
  },
  {
   "cell_type": "code",
   "execution_count": 10,
   "id": "99c67784",
   "metadata": {
    "id": "99c67784"
   },
   "outputs": [],
   "source": [
    "df_600k = pd.read_csv(\"../data/archive/tracks.csv\")\n",
    "df_12m = pd.read_csv(\"../data/archive (1)/tracks_features.csv\")\n",
    "df_11m = pd.read_csv(\"../data/archive (2)/spotify_data.csv\")\n",
    "\n",
    "artists = pd.read_csv(\"../data/archive/artists.csv\")"
   ]
  },
  {
   "cell_type": "code",
   "execution_count": 11,
   "id": "9cd0d5bf",
   "metadata": {
    "id": "9cd0d5bf"
   },
   "outputs": [],
   "source": [
    "# Dropping unwanted columns\n",
    "df_11m.drop(\"Unnamed: 0\", axis=1, inplace=True)\n",
    "df_12m.drop([\"album\",\"album_id\",\"track_number\",\"disc_number\",\"release_date\"],axis=1, inplace=True)\n",
    "\n",
    "# Renaming columns for consistency\n",
    "df_11m.rename({\"track_id\":'id'},axis=1, inplace=True)\n",
    "df_11m.rename({'track_name':'name'},axis=1, inplace=True)"
   ]
  },
  {
   "cell_type": "code",
   "execution_count": 12,
   "id": "113872fe",
   "metadata": {
    "id": "113872fe"
   },
   "outputs": [],
   "source": [
    "# Get the first artist only\n",
    "df_600k['artist_name'] = df_600k['artists'].apply(lambda x: x[1:-1].split(\",\")[0][1:-1])\n",
    "df_12m['artist_name'] = df_12m['artists'].apply(lambda x: x[1:-1].split(\",\")[0][1:-1])\n",
    "\n",
    "df_600k['artist_id'] = df_600k['id_artists'].apply(lambda x: x[1:-1].split(\",\")[0][1:-1])\n",
    "df_12m['artist_id'] = df_12m['artist_ids'].apply(lambda x: x[1:-1].split(\",\")[0][1:-1])\n",
    "\n",
    "df_600k.drop(['artists', 'id_artists'],axis=1, inplace=True)\n",
    "df_12m.drop(['artists', 'artist_ids'], axis=1, inplace=True)"
   ]
  },
  {
   "cell_type": "code",
   "execution_count": 13,
   "id": "c91c4fc8",
   "metadata": {
    "id": "c91c4fc8"
   },
   "outputs": [],
   "source": [
    "# Get the song's year\n",
    "df_600k['year'] = df_600k['release_date'].apply(lambda x: x.split('-')[0])\n",
    "\n",
    "df_600k.drop('release_date',axis=1, inplace=True)"
   ]
  },
  {
   "cell_type": "code",
   "execution_count": 14,
   "id": "b4604ec5-6eec-4256-a3c2-060409e6f534",
   "metadata": {},
   "outputs": [],
   "source": [
    "# Concatenate the three dataframes and drop duplicates\n",
    "df_1 = pd.concat([df_600k, df_11m])\n",
    "df_1.drop_duplicates('id',inplace=True)\n",
    "\n",
    "df_2 = pd.concat([df_1, df_12m])\n",
    "df_2.drop_duplicates('id',inplace=True)\n",
    "\n",
    "df_2.drop(columns=['explicit'], inplace=True)"
   ]
  },
  {
   "cell_type": "code",
   "execution_count": 15,
   "id": "d039a3e3",
   "metadata": {
    "id": "d039a3e3"
   },
   "outputs": [],
   "source": [
    "# Get the artist's genres from the artists dataframe\n",
    "artists_genres = artists[['name','genres','popularity']]\n",
    "artists_genres.rename({'name':'artist_name', 'popularity':'artist_popularity'},axis=1, inplace=True)\n",
    "\n",
    "df = pd.merge(df_2,artists_genres, on='artist_name',how='left')"
   ]
  },
  {
   "cell_type": "code",
   "execution_count": 16,
   "id": "a9bd3a5a-8f81-41a0-a492-8234e6a0e0c2",
   "metadata": {},
   "outputs": [],
   "source": [
    "# Replace the song's popularity with the artist's popularity if it's missing\n",
    "df.loc[df['popularity'].isnull(), 'popularity'] = df.loc[df['popularity'].isnull(), 'artist_popularity']"
   ]
  },
  {
   "cell_type": "code",
   "execution_count": 18,
   "id": "acc77d80-b371-4bbc-b66b-bfb5ec5b6ef5",
   "metadata": {},
   "outputs": [],
   "source": [
    "# Combine the artist's genre with the song's genres\n",
    "df['genres'].fillna(\"[]\", inplace=True)\n",
    "df['genres'] = df['genres'].apply(ast.literal_eval)\n",
    "df[df['genre'].notnull()]['genres'] = df[df['genre'].notnull()].apply(lambda x: x['genres'].append(x['genre']),axis=1)\n",
    "\n",
    "df.drop(['genre','artist_popularity'],axis=1, inplace=True)"
   ]
  },
  {
   "cell_type": "code",
   "execution_count": 23,
   "id": "fa43624d",
   "metadata": {
    "id": "fa43624d"
   },
   "outputs": [],
   "source": [
    "# Get the most frequent genres\n",
    "genres = [g for genre in df['genres'] for g in genre]\n",
    "genres = Counter(genres)\n",
    "top_200_genres = [genre for genre, count in genres.most_common(200)]"
   ]
  },
  {
   "cell_type": "code",
   "execution_count": 26,
   "id": "af18d6b0",
   "metadata": {
    "id": "af18d6b0"
   },
   "outputs": [],
   "source": [
    "from collections import Counter"
   ]
  },
  {
   "cell_type": "code",
   "execution_count": 38,
   "id": "2b4a7187",
   "metadata": {
    "id": "2b4a7187"
   },
   "outputs": [],
   "source": [
    "genres = Counter(genres)"
   ]
  },
  {
   "cell_type": "code",
   "execution_count": 39,
   "id": "1899857c",
   "metadata": {
    "id": "1899857c"
   },
   "outputs": [],
   "source": [
    "top_200_genres = [genre for genre, count in genres.most_common(200)]"
   ]
  },
  {
   "cell_type": "code",
   "execution_count": 40,
   "id": "b2c29ec7",
   "metadata": {
    "id": "b2c29ec7"
   },
   "outputs": [],
   "source": [
    "def filter_top_200_genres(genre_list):\n",
    "    new_genre_list = []\n",
    "    for genre in genre_list:\n",
    "        new_genre_list = new_genre_list + genre.split(\" \")\n",
    "        for i in genre.split(\" \"):\n",
    "            for j in genre.split(\" \"):\n",
    "                if i != j:\n",
    "                    new_genre_list.append(f'{i} {j}')\n",
    "    return [genre for genre in new_genre_list if genre in top_200_genres]"
   ]
  },
  {
   "cell_type": "code",
   "execution_count": 41,
   "id": "89f2d6fd",
   "metadata": {
    "id": "89f2d6fd"
   },
   "outputs": [],
   "source": [
    "df['new_genres'] = df['genres'].apply(filter_top_200_genres)"
   ]
  },
  {
   "cell_type": "code",
   "execution_count": 42,
   "id": "104f75fc",
   "metadata": {
    "colab": {
     "base_uri": "https://localhost:8080/"
    },
    "id": "104f75fc",
    "outputId": "7e9653dd-106a-43c8-95a4-d57b6f674011"
   },
   "outputs": [
    {
     "data": {
      "text/plain": [
       "(234184, 21)"
      ]
     },
     "execution_count": 42,
     "metadata": {},
     "output_type": "execute_result"
    }
   ],
   "source": [
    "df[df['new_genres'].apply(lambda x:len(x) == 0)].shape"
   ]
  },
  {
   "cell_type": "code",
   "execution_count": 43,
   "id": "ed603249",
   "metadata": {
    "id": "ed603249"
   },
   "outputs": [],
   "source": [
    "import re\n",
    "def most_frequent_word(list_,top=10):\n",
    "    string = ' '.join(list_)\n",
    "    words = re.findall(r'\\w+', string.lower())\n",
    "    word_counts = Counter(words)\n",
    "    return word_counts.most_common(top)"
   ]
  },
  {
   "cell_type": "code",
   "execution_count": 44,
   "id": "b94e1d22",
   "metadata": {
    "id": "b94e1d22"
   },
   "outputs": [],
   "source": [
    "unassigned_genres = list(set([g for genre in df[df['new_genres'].apply(lambda x:len(x) == 0)]['genres'] for g in genre]))"
   ]
  },
  {
   "cell_type": "code",
   "execution_count": 45,
   "id": "6b10353b",
   "metadata": {
    "colab": {
     "base_uri": "https://localhost:8080/"
    },
    "id": "6b10353b",
    "outputId": "1fd678c2-bf23-4942-c483-9116bc897b8f"
   },
   "outputs": [
    {
     "data": {
      "text/plain": [
       "[('indie', 351),\n",
       " ('musica', 71),\n",
       " ('electronic', 54),\n",
       " ('post', 53),\n",
       " ('traditional', 43),\n",
       " ('experimental', 40),\n",
       " ('deep', 28),\n",
       " ('rock', 27),\n",
       " ('choir', 23),\n",
       " ('music', 23),\n",
       " ('japanese', 21),\n",
       " ('punk', 21),\n",
       " ('band', 20),\n",
       " ('neo', 20),\n",
       " ('alternative', 19),\n",
       " ('worship', 18),\n",
       " ('j', 18),\n",
       " ('russian', 17),\n",
       " ('cumbia', 16),\n",
       " ('instrumental', 16),\n",
       " ('new', 15),\n",
       " ('americana', 15),\n",
       " ('italian', 15),\n",
       " ('irish', 15),\n",
       " ('folklore', 15),\n",
       " ('canadian', 14),\n",
       " ('bass', 14),\n",
       " ('classic', 14),\n",
       " ('drill', 14),\n",
       " ('disney', 13),\n",
       " ('dnb', 13),\n",
       " ('modern', 12),\n",
       " ('american', 12),\n",
       " ('chinese', 12),\n",
       " ('dutch', 11),\n",
       " ('pop', 11),\n",
       " ('s', 11),\n",
       " ('uk', 11),\n",
       " ('sound', 11),\n",
       " ('psych', 10),\n",
       " ('musique', 10),\n",
       " ('progressive', 10),\n",
       " ('australian', 10),\n",
       " ('shoegaze', 10),\n",
       " ('polish', 9),\n",
       " ('brasileiro', 9),\n",
       " ('orchestra', 9),\n",
       " ('doom', 9),\n",
       " ('brazilian', 9),\n",
       " ('indonesian', 9),\n",
       " ('hardcore', 8),\n",
       " ('children', 8),\n",
       " ('thrash', 8),\n",
       " ('and', 8),\n",
       " ('prog', 8),\n",
       " ('british', 8),\n",
       " ('vintage', 8),\n",
       " ('korean', 7),\n",
       " ('deathcore', 7),\n",
       " ('roots', 7),\n",
       " ('quebecois', 7),\n",
       " ('lo', 7),\n",
       " ('old', 7),\n",
       " ('synthpop', 7),\n",
       " ('gothic', 7),\n",
       " ('beats', 7),\n",
       " ('song', 7),\n",
       " ('finnish', 7),\n",
       " ('mexican', 7),\n",
       " ('christian', 7),\n",
       " ('chanson', 7),\n",
       " ('popular', 7),\n",
       " ('psychedelic', 6),\n",
       " ('world', 6),\n",
       " ('wave', 6),\n",
       " ('group', 6),\n",
       " ('reggaeton', 6),\n",
       " ('fi', 6),\n",
       " ('brass', 6),\n",
       " ('turkish', 6),\n",
       " ('bluegrass', 6),\n",
       " ('mexicana', 6),\n",
       " ('ccm', 6),\n",
       " ('hard', 6),\n",
       " ('norwegian', 6),\n",
       " ('folclore', 6),\n",
       " ('dark', 6),\n",
       " ('ensemble', 6),\n",
       " ('brasileira', 6),\n",
       " ('on', 6),\n",
       " ('nz', 5),\n",
       " ('danish', 5),\n",
       " ('synth', 5),\n",
       " ('anime', 5),\n",
       " ('school', 5),\n",
       " ('chilena', 5),\n",
       " ('taiwan', 5),\n",
       " ('show', 5),\n",
       " ('vocal', 5),\n",
       " ('big', 5)]"
      ]
     },
     "execution_count": 45,
     "metadata": {},
     "output_type": "execute_result"
    }
   ],
   "source": [
    "most_frequent_word(unassigned_genres,100)"
   ]
  },
  {
   "cell_type": "code",
   "execution_count": 46,
   "id": "b01695f1",
   "metadata": {
    "id": "b01695f1"
   },
   "outputs": [],
   "source": [
    "additional_genres = ['shoegaze', 'hip hop', 'experimental','psychedelic', 'progressive', 'indie', 'electronic']"
   ]
  },
  {
   "cell_type": "code",
   "execution_count": 47,
   "id": "d298173d",
   "metadata": {
    "id": "d298173d"
   },
   "outputs": [],
   "source": [
    "top_genres = top_200_genres + additional_genres\n",
    "def filter_top_genres(genre_list):\n",
    "    new_genre_list = []\n",
    "    for genre in genre_list:\n",
    "        new_genre_list = new_genre_list + genre.split(\" \")\n",
    "        for i in genre.split(\" \"):\n",
    "            for j in genre.split(\" \"):\n",
    "                if i != j:\n",
    "                    new_genre_list.append(f'{i} {j}')\n",
    "    return [genre for genre in new_genre_list if genre in top_genres]"
   ]
  },
  {
   "cell_type": "code",
   "execution_count": 48,
   "id": "711eaf09",
   "metadata": {
    "id": "711eaf09"
   },
   "outputs": [],
   "source": [
    "df['new_genres'] = df['genres'].apply(filter_top_genres)"
   ]
  },
  {
   "cell_type": "code",
   "execution_count": 49,
   "id": "d5090929",
   "metadata": {
    "colab": {
     "base_uri": "https://localhost:8080/"
    },
    "id": "d5090929",
    "outputId": "c2448081-5252-41df-e2f5-df2d2f3a4fff"
   },
   "outputs": [
    {
     "data": {
      "text/plain": [
       "(203203, 21)"
      ]
     },
     "execution_count": 49,
     "metadata": {},
     "output_type": "execute_result"
    }
   ],
   "source": [
    "df[df['new_genres'].apply(lambda x:len(x) == 0)].shape"
   ]
  },
  {
   "cell_type": "code",
   "execution_count": 50,
   "id": "530f2e03",
   "metadata": {
    "colab": {
     "base_uri": "https://localhost:8080/"
    },
    "id": "530f2e03",
    "outputId": "1fce3696-e09f-47b6-e029-14152c872ace"
   },
   "outputs": [
    {
     "data": {
      "text/plain": [
       "Index(['id', 'name', 'popularity', 'duration_ms', 'danceability', 'energy',\n",
       "       'key', 'loudness', 'mode', 'speechiness', 'acousticness',\n",
       "       'instrumentalness', 'liveness', 'valence', 'tempo', 'time_signature',\n",
       "       'artist_name', 'artist_id', 'year', 'genres', 'new_genres'],\n",
       "      dtype='object')"
      ]
     },
     "execution_count": 50,
     "metadata": {},
     "output_type": "execute_result"
    }
   ],
   "source": [
    "df.columns"
   ]
  },
  {
   "cell_type": "code",
   "execution_count": 51,
   "id": "etEA5u569fCO",
   "metadata": {
    "id": "etEA5u569fCO"
   },
   "outputs": [],
   "source": [
    "df.drop(['genres','artist_name','artist_id','name'], axis=1, inplace=True)"
   ]
  },
  {
   "cell_type": "code",
   "execution_count": 52,
   "id": "vs88tXj_90bO",
   "metadata": {
    "id": "vs88tXj_90bO"
   },
   "outputs": [],
   "source": [
    "with open(\"df_1.pkl\", 'wb') as file:\n",
    "  pickle.dump(df, file)"
   ]
  },
  {
   "cell_type": "code",
   "execution_count": 53,
   "id": "CuzFM5i69_MF",
   "metadata": {
    "colab": {
     "base_uri": "https://localhost:8080/",
     "height": 504
    },
    "id": "CuzFM5i69_MF",
    "outputId": "6f5d389e-533d-4d1f-9b47-4c4d6f17b14e"
   },
   "outputs": [
    {
     "data": {
      "text/html": [
       "<div>\n",
       "<style scoped>\n",
       "    .dataframe tbody tr th:only-of-type {\n",
       "        vertical-align: middle;\n",
       "    }\n",
       "\n",
       "    .dataframe tbody tr th {\n",
       "        vertical-align: top;\n",
       "    }\n",
       "\n",
       "    .dataframe thead th {\n",
       "        text-align: right;\n",
       "    }\n",
       "</style>\n",
       "<table border=\"1\" class=\"dataframe\">\n",
       "  <thead>\n",
       "    <tr style=\"text-align: right;\">\n",
       "      <th></th>\n",
       "      <th>id</th>\n",
       "      <th>popularity</th>\n",
       "      <th>duration_ms</th>\n",
       "      <th>danceability</th>\n",
       "      <th>energy</th>\n",
       "      <th>key</th>\n",
       "      <th>loudness</th>\n",
       "      <th>mode</th>\n",
       "      <th>speechiness</th>\n",
       "      <th>acousticness</th>\n",
       "      <th>instrumentalness</th>\n",
       "      <th>liveness</th>\n",
       "      <th>valence</th>\n",
       "      <th>tempo</th>\n",
       "      <th>time_signature</th>\n",
       "      <th>year</th>\n",
       "      <th>new_genres</th>\n",
       "    </tr>\n",
       "  </thead>\n",
       "  <tbody>\n",
       "    <tr>\n",
       "      <th>4</th>\n",
       "      <td>07A5yehtSnoedViJAZkNnc</td>\n",
       "      <td>0.00000</td>\n",
       "      <td>181640</td>\n",
       "      <td>0.43400</td>\n",
       "      <td>0.17700</td>\n",
       "      <td>1</td>\n",
       "      <td>-21.18000</td>\n",
       "      <td>1</td>\n",
       "      <td>0.05120</td>\n",
       "      <td>0.99400</td>\n",
       "      <td>0.02180</td>\n",
       "      <td>0.21200</td>\n",
       "      <td>0.45700</td>\n",
       "      <td>130.41800</td>\n",
       "      <td>5.00000</td>\n",
       "      <td>1922</td>\n",
       "      <td>[tango, tango, vintage tango]</td>\n",
       "    </tr>\n",
       "    <tr>\n",
       "      <th>5</th>\n",
       "      <td>08FmqUhxtyLTn6pAh6bk45</td>\n",
       "      <td>0.00000</td>\n",
       "      <td>176907</td>\n",
       "      <td>0.32100</td>\n",
       "      <td>0.09460</td>\n",
       "      <td>7</td>\n",
       "      <td>-27.96100</td>\n",
       "      <td>1</td>\n",
       "      <td>0.05040</td>\n",
       "      <td>0.99500</td>\n",
       "      <td>0.91800</td>\n",
       "      <td>0.10400</td>\n",
       "      <td>0.39700</td>\n",
       "      <td>169.98000</td>\n",
       "      <td>3.00000</td>\n",
       "      <td>1922</td>\n",
       "      <td>[tango, tango, vintage tango]</td>\n",
       "    </tr>\n",
       "    <tr>\n",
       "      <th>6</th>\n",
       "      <td>08y9GfoqCWfOGsKdwojr5e</td>\n",
       "      <td>0.00000</td>\n",
       "      <td>163080</td>\n",
       "      <td>0.40200</td>\n",
       "      <td>0.15800</td>\n",
       "      <td>3</td>\n",
       "      <td>-16.90000</td>\n",
       "      <td>0</td>\n",
       "      <td>0.03900</td>\n",
       "      <td>0.98900</td>\n",
       "      <td>0.13000</td>\n",
       "      <td>0.31100</td>\n",
       "      <td>0.19600</td>\n",
       "      <td>103.22000</td>\n",
       "      <td>4.00000</td>\n",
       "      <td>1922</td>\n",
       "      <td>[adult standards, easy listening, lounge, swing]</td>\n",
       "    </tr>\n",
       "    <tr>\n",
       "      <th>7</th>\n",
       "      <td>0BRXJHRNGQ3W4v9frnSfhu</td>\n",
       "      <td>0.00000</td>\n",
       "      <td>178933</td>\n",
       "      <td>0.22700</td>\n",
       "      <td>0.26100</td>\n",
       "      <td>5</td>\n",
       "      <td>-12.34300</td>\n",
       "      <td>1</td>\n",
       "      <td>0.03820</td>\n",
       "      <td>0.99400</td>\n",
       "      <td>0.24700</td>\n",
       "      <td>0.09770</td>\n",
       "      <td>0.05390</td>\n",
       "      <td>118.89100</td>\n",
       "      <td>4.00000</td>\n",
       "      <td>1922</td>\n",
       "      <td>[adult standards, easy listening, lounge, swing]</td>\n",
       "    </tr>\n",
       "    <tr>\n",
       "      <th>9</th>\n",
       "      <td>0IA0Hju8CAgYfV1hwhidBH</td>\n",
       "      <td>0.00000</td>\n",
       "      <td>161427</td>\n",
       "      <td>0.56300</td>\n",
       "      <td>0.18400</td>\n",
       "      <td>4</td>\n",
       "      <td>-13.75700</td>\n",
       "      <td>1</td>\n",
       "      <td>0.05120</td>\n",
       "      <td>0.99300</td>\n",
       "      <td>0.00002</td>\n",
       "      <td>0.32500</td>\n",
       "      <td>0.65400</td>\n",
       "      <td>133.08800</td>\n",
       "      <td>3.00000</td>\n",
       "      <td>1922</td>\n",
       "      <td>[]</td>\n",
       "    </tr>\n",
       "  </tbody>\n",
       "</table>\n",
       "</div>"
      ],
      "text/plain": [
       "                       id  popularity  duration_ms  danceability  energy  key  \\\n",
       "4  07A5yehtSnoedViJAZkNnc     0.00000       181640       0.43400 0.17700    1   \n",
       "5  08FmqUhxtyLTn6pAh6bk45     0.00000       176907       0.32100 0.09460    7   \n",
       "6  08y9GfoqCWfOGsKdwojr5e     0.00000       163080       0.40200 0.15800    3   \n",
       "7  0BRXJHRNGQ3W4v9frnSfhu     0.00000       178933       0.22700 0.26100    5   \n",
       "9  0IA0Hju8CAgYfV1hwhidBH     0.00000       161427       0.56300 0.18400    4   \n",
       "\n",
       "   loudness  mode  speechiness  acousticness  instrumentalness  liveness  \\\n",
       "4 -21.18000     1      0.05120       0.99400           0.02180   0.21200   \n",
       "5 -27.96100     1      0.05040       0.99500           0.91800   0.10400   \n",
       "6 -16.90000     0      0.03900       0.98900           0.13000   0.31100   \n",
       "7 -12.34300     1      0.03820       0.99400           0.24700   0.09770   \n",
       "9 -13.75700     1      0.05120       0.99300           0.00002   0.32500   \n",
       "\n",
       "   valence     tempo  time_signature  year  \\\n",
       "4  0.45700 130.41800         5.00000  1922   \n",
       "5  0.39700 169.98000         3.00000  1922   \n",
       "6  0.19600 103.22000         4.00000  1922   \n",
       "7  0.05390 118.89100         4.00000  1922   \n",
       "9  0.65400 133.08800         3.00000  1922   \n",
       "\n",
       "                                         new_genres  \n",
       "4                     [tango, tango, vintage tango]  \n",
       "5                     [tango, tango, vintage tango]  \n",
       "6  [adult standards, easy listening, lounge, swing]  \n",
       "7  [adult standards, easy listening, lounge, swing]  \n",
       "9                                                []  "
      ]
     },
     "execution_count": 53,
     "metadata": {},
     "output_type": "execute_result"
    }
   ],
   "source": [
    "df.head()"
   ]
  },
  {
   "cell_type": "code",
   "execution_count": 54,
   "id": "Ummsjt0eC-G1",
   "metadata": {
    "id": "Ummsjt0eC-G1"
   },
   "outputs": [],
   "source": [
    "songId_dict = df['id'].to_dict()"
   ]
  },
  {
   "cell_type": "code",
   "execution_count": 55,
   "id": "KQj8MIbyDIkF",
   "metadata": {
    "id": "KQj8MIbyDIkF"
   },
   "outputs": [],
   "source": [
    "with open(\"songId.pkl\", 'wb') as file:\n",
    "  pickle.dump(songId_dict, file)"
   ]
  },
  {
   "cell_type": "code",
   "execution_count": 56,
   "id": "oZzMNebUDcdc",
   "metadata": {
    "id": "oZzMNebUDcdc"
   },
   "outputs": [],
   "source": [
    "df.drop('id',axis=1,inplace=True)"
   ]
  },
  {
   "cell_type": "code",
   "execution_count": 57,
   "id": "6q4AZB50Dil6",
   "metadata": {
    "colab": {
     "base_uri": "https://localhost:8080/"
    },
    "id": "6q4AZB50Dil6",
    "outputId": "d5bd6c61-7c1f-4757-cbb7-2633a734b1bf"
   },
   "outputs": [
    {
     "data": {
      "text/plain": [
       "Index(['popularity', 'duration_ms', 'danceability', 'energy', 'key',\n",
       "       'loudness', 'mode', 'speechiness', 'acousticness', 'instrumentalness',\n",
       "       'liveness', 'valence', 'tempo', 'time_signature', 'year'],\n",
       "      dtype='object')"
      ]
     },
     "execution_count": 57,
     "metadata": {},
     "output_type": "execute_result"
    }
   ],
   "source": [
    "columns_to_scale = df.columns[:-1]\n",
    "columns_to_scale"
   ]
  },
  {
   "cell_type": "code",
   "execution_count": 58,
   "id": "HRIsRkJhD7uG",
   "metadata": {
    "id": "HRIsRkJhD7uG"
   },
   "outputs": [],
   "source": [
    "df['year'] = df['year'].astype(int)"
   ]
  },
  {
   "cell_type": "code",
   "execution_count": 59,
   "id": "UIJz_n0EEEeb",
   "metadata": {
    "colab": {
     "base_uri": "https://localhost:8080/"
    },
    "id": "UIJz_n0EEEeb",
    "outputId": "f484ade6-3a00-4335-c4bf-22219da64789"
   },
   "outputs": [
    {
     "data": {
      "text/plain": [
       "popularity          0\n",
       "duration_ms         0\n",
       "danceability        0\n",
       "energy              0\n",
       "key                 0\n",
       "loudness            0\n",
       "mode                0\n",
       "speechiness         0\n",
       "acousticness        0\n",
       "instrumentalness    0\n",
       "liveness            0\n",
       "valence             0\n",
       "tempo               0\n",
       "time_signature      0\n",
       "year                0\n",
       "new_genres          0\n",
       "dtype: int64"
      ]
     },
     "execution_count": 59,
     "metadata": {},
     "output_type": "execute_result"
    }
   ],
   "source": [
    "df.isnull().sum()"
   ]
  },
  {
   "cell_type": "code",
   "execution_count": 60,
   "id": "Q5r92wK-b39q",
   "metadata": {
    "colab": {
     "base_uri": "https://localhost:8080/"
    },
    "id": "Q5r92wK-b39q",
    "outputId": "daa8c899-e4c5-4c62-8f03-ac49cb8101bb"
   },
   "outputs": [
    {
     "data": {
      "text/plain": [
       "Index(['popularity', 'duration_ms', 'danceability', 'energy', 'key',\n",
       "       'loudness', 'mode', 'speechiness', 'acousticness', 'instrumentalness',\n",
       "       'liveness', 'valence', 'tempo', 'time_signature', 'year'],\n",
       "      dtype='object')"
      ]
     },
     "execution_count": 60,
     "metadata": {},
     "output_type": "execute_result"
    }
   ],
   "source": [
    "columns_to_scale"
   ]
  },
  {
   "cell_type": "code",
   "execution_count": 63,
   "id": "8Evc2Sx4DLa1",
   "metadata": {
    "id": "8Evc2Sx4DLa1"
   },
   "outputs": [],
   "source": [
    "scaler = StandardScaler()\n",
    "scaler.fit(df[columns_to_scale])\n",
    "df[columns_to_scale] = scaler.transform(df[columns_to_scale])"
   ]
  },
  {
   "cell_type": "code",
   "execution_count": 64,
   "id": "gVp4_gkaD57F",
   "metadata": {
    "colab": {
     "base_uri": "https://localhost:8080/",
     "height": 320
    },
    "id": "gVp4_gkaD57F",
    "outputId": "b0904e3b-0b91-48cb-deea-34522f393543"
   },
   "outputs": [
    {
     "data": {
      "text/html": [
       "<div>\n",
       "<style scoped>\n",
       "    .dataframe tbody tr th:only-of-type {\n",
       "        vertical-align: middle;\n",
       "    }\n",
       "\n",
       "    .dataframe tbody tr th {\n",
       "        vertical-align: top;\n",
       "    }\n",
       "\n",
       "    .dataframe thead th {\n",
       "        text-align: right;\n",
       "    }\n",
       "</style>\n",
       "<table border=\"1\" class=\"dataframe\">\n",
       "  <thead>\n",
       "    <tr style=\"text-align: right;\">\n",
       "      <th></th>\n",
       "      <th>popularity</th>\n",
       "      <th>duration_ms</th>\n",
       "      <th>danceability</th>\n",
       "      <th>energy</th>\n",
       "      <th>key</th>\n",
       "      <th>loudness</th>\n",
       "      <th>mode</th>\n",
       "      <th>speechiness</th>\n",
       "      <th>acousticness</th>\n",
       "      <th>instrumentalness</th>\n",
       "      <th>liveness</th>\n",
       "      <th>valence</th>\n",
       "      <th>tempo</th>\n",
       "      <th>time_signature</th>\n",
       "      <th>year</th>\n",
       "    </tr>\n",
       "  </thead>\n",
       "  <tbody>\n",
       "    <tr>\n",
       "      <th>count</th>\n",
       "      <td>2506205.00000</td>\n",
       "      <td>2506205.00000</td>\n",
       "      <td>2506205.00000</td>\n",
       "      <td>2506205.00000</td>\n",
       "      <td>2506205.00000</td>\n",
       "      <td>2506205.00000</td>\n",
       "      <td>2506205.00000</td>\n",
       "      <td>2506205.00000</td>\n",
       "      <td>2506205.00000</td>\n",
       "      <td>2506205.00000</td>\n",
       "      <td>2506205.00000</td>\n",
       "      <td>2506205.00000</td>\n",
       "      <td>2506205.00000</td>\n",
       "      <td>2506205.00000</td>\n",
       "      <td>2506205.00000</td>\n",
       "    </tr>\n",
       "    <tr>\n",
       "      <th>mean</th>\n",
       "      <td>-0.00000</td>\n",
       "      <td>0.00000</td>\n",
       "      <td>-0.00000</td>\n",
       "      <td>-0.00000</td>\n",
       "      <td>0.00000</td>\n",
       "      <td>-0.00000</td>\n",
       "      <td>-0.00000</td>\n",
       "      <td>0.00000</td>\n",
       "      <td>-0.00000</td>\n",
       "      <td>0.00000</td>\n",
       "      <td>0.00000</td>\n",
       "      <td>-0.00000</td>\n",
       "      <td>-0.00000</td>\n",
       "      <td>0.00000</td>\n",
       "      <td>0.00000</td>\n",
       "    </tr>\n",
       "    <tr>\n",
       "      <th>std</th>\n",
       "      <td>1.00000</td>\n",
       "      <td>1.00000</td>\n",
       "      <td>1.00000</td>\n",
       "      <td>1.00000</td>\n",
       "      <td>1.00000</td>\n",
       "      <td>1.00000</td>\n",
       "      <td>1.00000</td>\n",
       "      <td>1.00000</td>\n",
       "      <td>1.00000</td>\n",
       "      <td>1.00000</td>\n",
       "      <td>1.00000</td>\n",
       "      <td>1.00000</td>\n",
       "      <td>1.00000</td>\n",
       "      <td>1.00000</td>\n",
       "      <td>1.00000</td>\n",
       "    </tr>\n",
       "    <tr>\n",
       "      <th>min</th>\n",
       "      <td>-1.30596</td>\n",
       "      <td>-1.65738</td>\n",
       "      <td>-2.81171</td>\n",
       "      <td>-2.02120</td>\n",
       "      <td>-1.48133</td>\n",
       "      <td>-7.83674</td>\n",
       "      <td>-1.36038</td>\n",
       "      <td>-0.68478</td>\n",
       "      <td>-1.05373</td>\n",
       "      <td>-0.66113</td>\n",
       "      <td>-1.11262</td>\n",
       "      <td>-1.69983</td>\n",
       "      <td>-3.94874</td>\n",
       "      <td>-7.67507</td>\n",
       "      <td>-6.93415</td>\n",
       "    </tr>\n",
       "    <tr>\n",
       "      <th>25%</th>\n",
       "      <td>-0.86030</td>\n",
       "      <td>-0.46499</td>\n",
       "      <td>-0.69557</td>\n",
       "      <td>-0.78506</td>\n",
       "      <td>-0.91644</td>\n",
       "      <td>-0.39460</td>\n",
       "      <td>-1.36038</td>\n",
       "      <td>-0.41699</td>\n",
       "      <td>-0.99611</td>\n",
       "      <td>-0.66113</td>\n",
       "      <td>-0.61069</td>\n",
       "      <td>-0.85928</td>\n",
       "      <td>-0.77236</td>\n",
       "      <td>0.26839</td>\n",
       "      <td>-0.30708</td>\n",
       "    </tr>\n",
       "    <tr>\n",
       "      <th>50%</th>\n",
       "      <td>-0.11754</td>\n",
       "      <td>-0.15532</td>\n",
       "      <td>0.07053</td>\n",
       "      <td>0.13151</td>\n",
       "      <td>-0.06911</td>\n",
       "      <td>0.28120</td>\n",
       "      <td>0.73509</td>\n",
       "      <td>-0.33345</td>\n",
       "      <td>-0.31327</td>\n",
       "      <td>-0.65800</td>\n",
       "      <td>-0.43309</td>\n",
       "      <td>-0.04809</td>\n",
       "      <td>0.01704</td>\n",
       "      <td>0.26839</td>\n",
       "      <td>0.21783</td>\n",
       "    </tr>\n",
       "    <tr>\n",
       "      <th>75%</th>\n",
       "      <td>0.67474</td>\n",
       "      <td>0.24379</td>\n",
       "      <td>0.75626</td>\n",
       "      <td>0.87600</td>\n",
       "      <td>0.77822</td>\n",
       "      <td>0.69384</td>\n",
       "      <td>0.73509</td>\n",
       "      <td>-0.07984</td>\n",
       "      <td>1.02493</td>\n",
       "      <td>0.81338</td>\n",
       "      <td>0.31337</td>\n",
       "      <td>0.82183</td>\n",
       "      <td>0.61697</td>\n",
       "      <td>0.26839</td>\n",
       "      <td>0.67714</td>\n",
       "    </tr>\n",
       "    <tr>\n",
       "      <th>max</th>\n",
       "      <td>3.64580</td>\n",
       "      <td>38.87202</td>\n",
       "      <td>2.54561</td>\n",
       "      <td>1.49056</td>\n",
       "      <td>1.62556</td>\n",
       "      <td>2.59699</td>\n",
       "      <td>0.73509</td>\n",
       "      <td>6.55803</td>\n",
       "      <td>1.62807</td>\n",
       "      <td>2.13151</td>\n",
       "      <td>4.03534</td>\n",
       "      <td>1.97071</td>\n",
       "      <td>4.32183</td>\n",
       "      <td>2.25426</td>\n",
       "      <td>1.13644</td>\n",
       "    </tr>\n",
       "  </tbody>\n",
       "</table>\n",
       "</div>"
      ],
      "text/plain": [
       "         popularity   duration_ms  danceability        energy           key  \\\n",
       "count 2506205.00000 2506205.00000 2506205.00000 2506205.00000 2506205.00000   \n",
       "mean       -0.00000       0.00000      -0.00000      -0.00000       0.00000   \n",
       "std         1.00000       1.00000       1.00000       1.00000       1.00000   \n",
       "min        -1.30596      -1.65738      -2.81171      -2.02120      -1.48133   \n",
       "25%        -0.86030      -0.46499      -0.69557      -0.78506      -0.91644   \n",
       "50%        -0.11754      -0.15532       0.07053       0.13151      -0.06911   \n",
       "75%         0.67474       0.24379       0.75626       0.87600       0.77822   \n",
       "max         3.64580      38.87202       2.54561       1.49056       1.62556   \n",
       "\n",
       "           loudness          mode   speechiness  acousticness  \\\n",
       "count 2506205.00000 2506205.00000 2506205.00000 2506205.00000   \n",
       "mean       -0.00000      -0.00000       0.00000      -0.00000   \n",
       "std         1.00000       1.00000       1.00000       1.00000   \n",
       "min        -7.83674      -1.36038      -0.68478      -1.05373   \n",
       "25%        -0.39460      -1.36038      -0.41699      -0.99611   \n",
       "50%         0.28120       0.73509      -0.33345      -0.31327   \n",
       "75%         0.69384       0.73509      -0.07984       1.02493   \n",
       "max         2.59699       0.73509       6.55803       1.62807   \n",
       "\n",
       "       instrumentalness      liveness       valence         tempo  \\\n",
       "count     2506205.00000 2506205.00000 2506205.00000 2506205.00000   \n",
       "mean            0.00000       0.00000      -0.00000      -0.00000   \n",
       "std             1.00000       1.00000       1.00000       1.00000   \n",
       "min            -0.66113      -1.11262      -1.69983      -3.94874   \n",
       "25%            -0.66113      -0.61069      -0.85928      -0.77236   \n",
       "50%            -0.65800      -0.43309      -0.04809       0.01704   \n",
       "75%             0.81338       0.31337       0.82183       0.61697   \n",
       "max             2.13151       4.03534       1.97071       4.32183   \n",
       "\n",
       "       time_signature          year  \n",
       "count   2506205.00000 2506205.00000  \n",
       "mean          0.00000       0.00000  \n",
       "std           1.00000       1.00000  \n",
       "min          -7.67507      -6.93415  \n",
       "25%           0.26839      -0.30708  \n",
       "50%           0.26839       0.21783  \n",
       "75%           0.26839       0.67714  \n",
       "max           2.25426       1.13644  "
      ]
     },
     "execution_count": 64,
     "metadata": {},
     "output_type": "execute_result"
    }
   ],
   "source": [
    "df.describe()"
   ]
  },
  {
   "cell_type": "code",
   "execution_count": 65,
   "id": "BmovQYTaEPcl",
   "metadata": {
    "id": "BmovQYTaEPcl"
   },
   "outputs": [],
   "source": [
    "with open(\"scaler.pkl\", 'wb') as file:\n",
    "  pickle.dump(scaler, file)"
   ]
  },
  {
   "cell_type": "code",
   "execution_count": 66,
   "id": "v8ML3nN-EqTN",
   "metadata": {
    "id": "v8ML3nN-EqTN"
   },
   "outputs": [],
   "source": [
    "from sklearn.preprocessing import MultiLabelBinarizer\n",
    "mlb = MultiLabelBinarizer(sparse_output=True)\n",
    "df = df.join(\n",
    "            pd.DataFrame.sparse.from_spmatrix(\n",
    "                mlb.fit_transform(df.pop('new_genres')),\n",
    "                index=df.index,\n",
    "                columns=mlb.classes_))"
   ]
  },
  {
   "cell_type": "code",
   "execution_count": 67,
   "id": "zcbVNNxwFlc8",
   "metadata": {
    "colab": {
     "base_uri": "https://localhost:8080/"
    },
    "id": "zcbVNNxwFlc8",
    "outputId": "5b317fa1-f307-4cb9-c572-04349ae42169"
   },
   "outputs": [
    {
     "data": {
      "text/plain": [
       "209"
      ]
     },
     "execution_count": 67,
     "metadata": {},
     "output_type": "execute_result"
    }
   ],
   "source": [
    "len(df.columns)"
   ]
  },
  {
   "cell_type": "code",
   "execution_count": 68,
   "id": "by9uDx4LFo6E",
   "metadata": {
    "id": "by9uDx4LFo6E"
   },
   "outputs": [],
   "source": [
    "with open(\"df_2.pkl\", 'wb') as file:\n",
    "  pickle.dump(df, file)"
   ]
  },
  {
   "cell_type": "code",
   "execution_count": 69,
   "id": "xlFuvoWoFvJM",
   "metadata": {
    "colab": {
     "base_uri": "https://localhost:8080/"
    },
    "id": "xlFuvoWoFvJM",
    "outputId": "32a840b6-b580-4cc0-a026-d03115575963"
   },
   "outputs": [
    {
     "data": {
      "text/plain": [
       "(2506205, 209)"
      ]
     },
     "execution_count": 69,
     "metadata": {},
     "output_type": "execute_result"
    }
   ],
   "source": [
    "df.shape"
   ]
  },
  {
   "cell_type": "code",
   "execution_count": 70,
   "id": "YfGIuwsvF2Lk",
   "metadata": {
    "id": "YfGIuwsvF2Lk"
   },
   "outputs": [],
   "source": [
    "with open(\"mlb.pkl\", 'wb') as file:\n",
    "  pickle.dump(mlb, file)"
   ]
  },
  {
   "cell_type": "code",
   "execution_count": null,
   "id": "hO7ua2YIeQ0C",
   "metadata": {
    "id": "hO7ua2YIeQ0C"
   },
   "outputs": [],
   "source": []
  },
  {
   "cell_type": "code",
   "execution_count": null,
   "id": "43bf0cf8-7401-4056-9b14-017b2a2eb2dd",
   "metadata": {},
   "outputs": [],
   "source": []
  },
  {
   "cell_type": "code",
   "execution_count": null,
   "id": "85dcfabc-219e-4008-912b-30e618d0622f",
   "metadata": {},
   "outputs": [],
   "source": []
  },
  {
   "cell_type": "code",
   "execution_count": null,
   "id": "ec4784e5-ce5c-498a-baaf-4342677fda1d",
   "metadata": {},
   "outputs": [],
   "source": []
  },
  {
   "cell_type": "code",
   "execution_count": null,
   "id": "b5d25e0b-b128-4ef7-9e07-d1b61e539fd7",
   "metadata": {},
   "outputs": [],
   "source": []
  },
  {
   "cell_type": "code",
   "execution_count": null,
   "id": "09d41370-823d-4c8a-9914-dd96d1c75d46",
   "metadata": {},
   "outputs": [],
   "source": []
  },
  {
   "cell_type": "code",
   "execution_count": null,
   "id": "33b59cf0-8e95-486a-b8c7-4c8abd8143a8",
   "metadata": {},
   "outputs": [],
   "source": []
  }
 ],
 "metadata": {
  "colab": {
   "provenance": []
  },
  "kernelspec": {
   "display_name": "Python 3 (ipykernel)",
   "language": "python",
   "name": "python3"
  },
  "language_info": {
   "codemirror_mode": {
    "name": "ipython",
    "version": 3
   },
   "file_extension": ".py",
   "mimetype": "text/x-python",
   "name": "python",
   "nbconvert_exporter": "python",
   "pygments_lexer": "ipython3",
   "version": "3.11.7"
  }
 },
 "nbformat": 4,
 "nbformat_minor": 5
}
