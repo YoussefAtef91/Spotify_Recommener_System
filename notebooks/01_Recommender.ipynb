{
 "cells": [
  {
   "cell_type": "markdown",
   "id": "efd6a726-9622-4e98-9b69-9848f1aedbad",
   "metadata": {},
   "source": [
    "## Importings"
   ]
  },
  {
   "cell_type": "code",
   "execution_count": 1,
   "id": "82a4121e",
   "metadata": {
    "id": "82a4121e"
   },
   "outputs": [],
   "source": [
    "import pandas as pd\n",
    "import numpy as np\n",
    "import matplotlib.pyplot as plt\n",
    "import pickle\n",
    "from tqdm import tqdm\n",
    "import spotipy\n",
    "from spotipy.oauth2 import SpotifyClientCredentials\n",
    "import ast\n",
    "import os\n",
    "from dotenv import load_dotenv\n",
    "from sklearn.preprocessing import normalize\n",
    "from sklearn.metrics.pairwise import cosine_similarity\n",
    "import warnings\n",
    "warnings.simplefilter('ignore')"
   ]
  },
  {
   "cell_type": "markdown",
   "id": "1ca03217-cd21-4d86-a52f-eb7b32b67244",
   "metadata": {},
   "source": [
    "## Loading Data and Models"
   ]
  },
  {
   "cell_type": "code",
   "execution_count": 2,
   "id": "2b130831",
   "metadata": {
    "id": "2b130831"
   },
   "outputs": [],
   "source": [
    "artists_df = pd.read_csv(\"../data/archive/artists.csv\")\n",
    "df = pd.read_pickle('../models/df.pkl')\n",
    "\n",
    "with open('../models/songId.pkl', 'rb') as file:\n",
    "    songsId = pickle.load(file)\n",
    "\n",
    "with open('../models/scaler.pkl', 'rb') as file:\n",
    "    scaler = pickle.load(file)\n",
    "\n",
    "with open('../models/mlb.pkl', 'rb') as file:\n",
    "    mlb = pickle.load(file)"
   ]
  },
  {
   "cell_type": "code",
   "execution_count": 3,
   "id": "2c3211be-079e-4dd6-9c32-d3452ae19b5c",
   "metadata": {},
   "outputs": [
    {
     "name": "stdout",
     "output_type": "stream",
     "text": [
      "There are 209 columns and 2506205 rows\n"
     ]
    }
   ],
   "source": [
    "print(f\"There are {df.shape[1]} columns and {df.shape[0]} rows\")"
   ]
  },
  {
   "cell_type": "markdown",
   "id": "b97eeb52-2bc2-4fed-9d50-f362728a52c8",
   "metadata": {},
   "source": [
    "## Setting up spotify api"
   ]
  },
  {
   "cell_type": "code",
   "execution_count": 4,
   "id": "381db531",
   "metadata": {
    "id": "381db531"
   },
   "outputs": [],
   "source": [
    "load_dotenv()\n",
    "client_id = os.getenv('client_id')\n",
    "secret_id = os.getenv('secret_id')"
   ]
  },
  {
   "cell_type": "code",
   "execution_count": 5,
   "id": "93ed0fff",
   "metadata": {
    "id": "93ed0fff"
   },
   "outputs": [],
   "source": [
    "auth_manager = SpotifyClientCredentials(client_id=client_id, client_secret=secret_id)\n",
    "sp = spotipy.Spotify(auth_manager=auth_manager)"
   ]
  },
  {
   "cell_type": "markdown",
   "id": "b8df0603-afac-4640-854f-e74e1e9d1999",
   "metadata": {},
   "source": [
    "## Songs Recommender System"
   ]
  },
  {
   "cell_type": "code",
   "execution_count": 6,
   "id": "z5Z_m9yfm8hc",
   "metadata": {
    "id": "z5Z_m9yfm8hc"
   },
   "outputs": [],
   "source": [
    "class Playlist():\n",
    "    \"\"\"\n",
    "    A class to represent a Spotify playlist and generate song recommendations based on it.\n",
    "\n",
    "    Attributes:\n",
    "    playlist_url : str\n",
    "        The URL of the Spotify playlist.\n",
    "    sp : SpotifyAPI\n",
    "        The Spotify API client.\n",
    "    artists_df : pd.DataFrame\n",
    "        DataFrame containing artist information (id, genres, popularity).\n",
    "    scaler : Scaler\n",
    "        Scaler object for normalizing feature values.\n",
    "    mlb : MultiLabelBinarizer\n",
    "        MultiLabelBinarizer for transforming genre labels.\n",
    "    df : pd.DataFrame\n",
    "        DataFrame containing features of all songs in the dataset.\n",
    "    songsId : list\n",
    "        List of all song IDs in the dataset.\n",
    "    \"\"\"\n",
    "    def __init__(self, playlist_url, sp, artists_df, scaler, mlb, df, songsId):\n",
    "        \"\"\"\n",
    "        Constructs all the necessary attributes for the Playlist object.\n",
    "\n",
    "        Parameters:\n",
    "        playlist_url : str\n",
    "            The URL of the Spotify playlist.\n",
    "        sp : SpotifyAPI\n",
    "            The Spotify API client.\n",
    "        artists_df : pd.DataFrame\n",
    "            DataFrame containing artist information (id, genres, popularity).\n",
    "        scaler : Scaler\n",
    "            Scaler object for normalizing feature values.\n",
    "        mlb : MultiLabelBinarizer\n",
    "            MultiLabelBinarizer for transforming genre labels.\n",
    "        df : pd.DataFrame\n",
    "            DataFrame containing features of all songs in the dataset.\n",
    "        songsId : list\n",
    "            List of all song IDs in the dataset.\n",
    "        \"\"\"\n",
    "        self.playlist_url = playlist_url\n",
    "        self.sp = sp\n",
    "        self.artists_df = artists_df\n",
    "        self.scaler = scaler\n",
    "        self.mlb = mlb\n",
    "        self.df = df\n",
    "        self.songsId = songsId\n",
    "\n",
    "    def songFeatures(self, songId):\n",
    "        \"\"\"\n",
    "        Fetches and constructs features for a given song ID.\n",
    "\n",
    "        Parameters:\n",
    "        song_id : str\n",
    "            The ID of the song.\n",
    "\n",
    "        Returns:\n",
    "        dict\n",
    "            A dictionary containing features of the song.\n",
    "        \"\"\"\n",
    "        try:\n",
    "            # Fetch track details from Spotify API\n",
    "            track = self.sp.track(songId)\n",
    "            artists = track['artists'][0]['id']\n",
    "    \n",
    "            # Fetch artist details from pre-loaded DataFrame or Spotify API\n",
    "            if self.artists_df[self.artists_df['id'] == artists].any().any():\n",
    "                genres = self.artists_df[self.artists_df['id'] == artists]['genres'].values[0]\n",
    "                artists_popularity = self.artists_df[self.artists_df['id'] == artists]['popularity'].values[0]\n",
    "            else:\n",
    "                genres = str(self.sp.artist(artists)['genres'])\n",
    "                artists_popularity = self.sp.artist(artists)['popularity']\n",
    "    \n",
    "            # Fetch song audio features from Spotify API\n",
    "            song_features = self.sp.audio_features(songId)[0]\n",
    "            song_features['genres'] = genres\n",
    "            song_features['artist_popularity'] = artists_popularity\n",
    "            release_date = track['album']['release_date']\n",
    "            year = int(release_date.split(\"-\")[0])\n",
    "            song_features['year'] = year\n",
    "        \n",
    "            return song_features\n",
    "\n",
    "        except Exception as e:\n",
    "            print(f\"Error fetching features for song ID {song_id}: {e}\")\n",
    "            return None\n",
    "\n",
    "    def playlistInfo(self):\n",
    "        \"\"\"\n",
    "        Extracts and returns the list of song IDs in the playlist.\n",
    "\n",
    "        Returns:\n",
    "        list\n",
    "            A list of song IDs in the playlist.\n",
    "        \"\"\"\n",
    "        playlist_id = self.playlist_url.split(\"/\")[-1].split(\"?\")[0]\n",
    "        try:\n",
    "            # Fetch playlist details from Spotify API\n",
    "            playlist_info = self.sp.playlist(playlist_id)\n",
    "            # Extract song IDs from the playlist\n",
    "            songsId = []\n",
    "            if playlist_info['tracks']['total'] > 0:\n",
    "                for i in range(playlist_info['tracks']['total']):\n",
    "                    song_id = playlist_info['tracks']['items'][i]['track']['id']\n",
    "                    if song_id:\n",
    "                        songsId.append(song_id)\n",
    "            return songsId\n",
    "        except Exception as e:\n",
    "            print(f\"Error fetching playlist info: {e}\")\n",
    "            return []\n",
    "\n",
    "    def playlistFeatures(self):\n",
    "        \"\"\"\n",
    "        Constructs a DataFrame containing features of all songs in the playlist.\n",
    "\n",
    "        Returns:\n",
    "        pd.DataFrame\n",
    "            DataFrame containing features of all songs in the playlist.\n",
    "        \"\"\"\n",
    "        songs_id = self.playlistInfo()\n",
    "        playlist_features_list = []\n",
    "        \n",
    "        # Fetch features for each song in the playlist\n",
    "        for song_id in songs_id:\n",
    "            song_features = self.songFeatures(song_id)\n",
    "            if song_features:\n",
    "                song_features['genres'] = ast.literal_eval(song_features['genres'])\n",
    "                song_df = pd.DataFrame([song_features])\n",
    "                playlist_features_list.append(song_df)\n",
    "\n",
    "        # Combine all song features into a single DataFrame\n",
    "        if playlist_features_list:\n",
    "            playlist_features = pd.concat(playlist_features_list).reset_index(drop=True)\n",
    "            # Drop unnecessary columns\n",
    "            playlist_features.drop(['id', 'type', 'uri', 'track_href', 'analysis_url'], axis=1, inplace=True)\n",
    "            return playlist_features\n",
    "        else:\n",
    "            return pd.DataFrame()\n",
    "\n",
    "    def recommend(self, N=10):\n",
    "        \"\"\"\n",
    "        Recommends top N songs similar to the songs in the playlist.\n",
    "\n",
    "        Parameters:\n",
    "        N : int\n",
    "            The number of songs to recommend (default is 10).\n",
    "\n",
    "        Returns:\n",
    "        tuple\n",
    "            A tuple containing two elements:\n",
    "                - list: A list of recommended song IDs.\n",
    "                - dict: A dictionary containing recommended song names and their artists.\n",
    "        \"\"\"\n",
    "        playlistFeatures = self.playlistFeatures()\n",
    "        if playlistFeatures.empty:\n",
    "            return {}\n",
    "            \n",
    "        # Rename column for consistency\n",
    "        playlistFeatures.rename(columns={'artist_popularity': 'popularity'}, inplace=True)\n",
    "\n",
    "        # List of columns to be scaled\n",
    "        columns_to_scale = ['popularity', 'duration_ms', 'danceability', 'energy', 'key',\n",
    "           'loudness', 'mode', 'speechiness', 'acousticness', 'instrumentalness',\n",
    "           'liveness', 'valence', 'tempo', 'time_signature', 'year']\n",
    "\n",
    "        # scale features values\n",
    "        playlistFeatures[columns_to_scale] = scaler.transform(playlistFeatures[columns_to_scale])\n",
    "\n",
    "        # Encode genres\n",
    "        playlistFeatures = playlistFeatures.join(\n",
    "                pd.DataFrame.sparse.from_spmatrix(\n",
    "                    mlb.transform(playlistFeatures.pop('genres')),\n",
    "                    index=playlistFeatures.index,\n",
    "                    columns=mlb.classes_))\n",
    "\n",
    "        # Rearrange the columns to match the original datframe\n",
    "        playlistFeatures = playlistFeatures[df.columns]\n",
    "\n",
    "        # Calculate the playlist vector\n",
    "        playlist_vector = np.sum(playlistFeatures, axis=0)\n",
    "        playlist_vector = np.array(playlist_vector)\n",
    "        playlist_vector_normalized = normalize(playlist_vector.reshape(1, -1))\n",
    "\n",
    "        # Compute cosine similarities\n",
    "        cos_similarities = cosine_similarity(playlist_vector_normalized, df)\n",
    "        sorted_indices = cos_similarities.argsort(axis=1)[:, ::-1]\n",
    "\n",
    "        # Get top N recommended songs IDs\n",
    "        top_similar_songs_indices = sorted_indices[:, :N]\n",
    "        recommended_songs_ids = [songsId[index] for index in top_similar_songs_indices[0]]\n",
    "\n",
    "        # Fetch recommended songs names\n",
    "        recommended_songs_names = {self.sp.track(song_id)['name']: self.sp.track(song_id)['artists'][0]['name'] for song_id in recommended_songs_ids}\n",
    "        \n",
    "        return recommended_songs_ids, recommended_songs_names"
   ]
  },
  {
   "cell_type": "markdown",
   "id": "fc82d9d2-6549-4458-8cb9-691c47db401f",
   "metadata": {},
   "source": [
    "## Testing the Recommender"
   ]
  },
  {
   "cell_type": "code",
   "execution_count": 7,
   "id": "00e652c9-b942-40ba-bb72-41430d1e81e7",
   "metadata": {},
   "outputs": [],
   "source": [
    "url = \"https://open.spotify.com/playlist/3uMNeNQpW5hQgYIZoO7j7x?si=3b9b00fa305547f6\""
   ]
  },
  {
   "cell_type": "code",
   "execution_count": 8,
   "id": "0cae06c5-63a2-4198-aac6-a41de23d8415",
   "metadata": {},
   "outputs": [],
   "source": [
    "pl = Playlist(url, sp, artists_df, scaler, mlb, df, songsId)"
   ]
  },
  {
   "cell_type": "code",
   "execution_count": 9,
   "id": "3671394a-93c4-4fdd-af65-559460b7a336",
   "metadata": {},
   "outputs": [],
   "source": [
    "recommended_songs_id, recommended_songs_names = pl.recommend(15)"
   ]
  },
  {
   "cell_type": "code",
   "execution_count": 11,
   "id": "b7afdba0-d6c9-498d-878e-8ef4467c39bd",
   "metadata": {},
   "outputs": [
    {
     "data": {
      "text/plain": [
       "['5TxDfQClY6wdDQY65oVYbi',\n",
       " '2ZjOdKpevvKRnUJQGFcnDH',\n",
       " '4QLfwQF7X3gsGWjCAQ4YLb',\n",
       " '0QkynJsv9GddbxWV4dL2io',\n",
       " '6XC7Un1zOm1TTPWb92r36V',\n",
       " '5gCMldzBtCPajx3JNLtVB6',\n",
       " '6iLR5xkwwPZ7zUYEvxOif5',\n",
       " '4YjC1wilTbFxhtNpKS2xGF',\n",
       " '4sJnSjPD346EYYAN4YZxue',\n",
       " '0y54E1JqDQCLMZ9x4HsMUq',\n",
       " '4LEjCGYmcMgGponP5Hsb7h',\n",
       " '2u6Tgp1ebqNaEBhLzHduyB',\n",
       " '6iewg3v0pYegtd0x6si728',\n",
       " '2bqk6KjVna0ZkEfQ6Kceup',\n",
       " '4iTHnTc12swZdJ8RaaZyCm']"
      ]
     },
     "execution_count": 11,
     "metadata": {},
     "output_type": "execute_result"
    }
   ],
   "source": [
    "recommended_songs_id"
   ]
  },
  {
   "cell_type": "code",
   "execution_count": 12,
   "id": "51e0c28c-ea28-43f6-a71f-7db79799197f",
   "metadata": {},
   "outputs": [
    {
     "data": {
      "text/plain": [
       "{'Swimming Through Us': 'Airiel',\n",
       " 'Airtight Angels': 'Airiel',\n",
       " 'Halcyon': 'Temples',\n",
       " 'Just Like Kicking Jesus - Elsa Sings': 'The Brian Jonestown Massacre',\n",
       " 'Planes Over The Skyline': 'Swervedriver',\n",
       " 'Everyone Knows': 'Slowdive',\n",
       " 'Rave Down': 'Swervedriver',\n",
       " 'Where It Belongs': 'Airiel',\n",
       " 'STORYWRITER': 'Supercar',\n",
       " 'Hound': 'SALEM',\n",
       " 'Son Of Mustang Ford': 'Swervedriver',\n",
       " 'Rebuilding the Temple of Artemis': 'If These Trees Could Talk',\n",
       " 'Metroid (1 of 2)': 'Vomitron',\n",
       " '20 Size': 'Mogwai'}"
      ]
     },
     "execution_count": 12,
     "metadata": {},
     "output_type": "execute_result"
    }
   ],
   "source": [
    "recommended_songs_names"
   ]
  }
 ],
 "metadata": {
  "colab": {
   "provenance": []
  },
  "kernelspec": {
   "display_name": "Python 3 (ipykernel)",
   "language": "python",
   "name": "python3"
  },
  "language_info": {
   "codemirror_mode": {
    "name": "ipython",
    "version": 3
   },
   "file_extension": ".py",
   "mimetype": "text/x-python",
   "name": "python",
   "nbconvert_exporter": "python",
   "pygments_lexer": "ipython3",
   "version": "3.11.7"
  }
 },
 "nbformat": 4,
 "nbformat_minor": 5
}
