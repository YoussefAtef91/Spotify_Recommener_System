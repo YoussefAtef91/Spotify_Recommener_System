{
 "cells": [
  {
   "cell_type": "markdown",
   "id": "421c1ce3-7040-4b6a-b69b-0574b2e9c350",
   "metadata": {},
   "source": [
    "## Importings"
   ]
  },
  {
   "cell_type": "code",
   "execution_count": 1,
   "id": "5cc428a9",
   "metadata": {
    "id": "5cc428a9"
   },
   "outputs": [],
   "source": [
    "import pandas as pd\n",
    "import numpy as np\n",
    "import matplotlib.pyplot as plt\n",
    "import seaborn as sns\n",
    "from tqdm import tqdm\n",
    "import ast\n",
    "import pickle\n",
    "import os\n",
    "import re\n",
    "from dotenv import load_dotenv\n",
    "from collections import Counter\n",
    "from sklearn.preprocessing import StandardScaler, MultiLabelBinarizer\n",
    "\n",
    "import spotipy\n",
    "from spotipy.oauth2 import SpotifyClientCredentials\n",
    "\n",
    "import warnings\n",
    "warnings.simplefilter('ignore')\n",
    "pd.set_option('display.float_format', lambda x: '%.5f' % x)"
   ]
  },
  {
   "cell_type": "markdown",
   "id": "d0b4eacb-9733-4d23-a851-b56a46e2da61",
   "metadata": {},
   "source": [
    "## Setting up spotify api"
   ]
  },
  {
   "cell_type": "code",
   "execution_count": 2,
   "id": "d74b8896",
   "metadata": {
    "id": "d74b8896"
   },
   "outputs": [],
   "source": [
    "load_dotenv()\n",
    "client_id = os.getenv('client_id')\n",
    "secret_id = os.getenv('secret_id')"
   ]
  },
  {
   "cell_type": "code",
   "execution_count": 3,
   "id": "abfba976",
   "metadata": {
    "id": "abfba976"
   },
   "outputs": [],
   "source": [
    "auth_manager = SpotifyClientCredentials(client_id=client_id, client_secret=secret_id)\n",
    "sp = spotipy.Spotify(auth_manager=auth_manager)"
   ]
  },
  {
   "cell_type": "markdown",
   "id": "7c2b1dcc-5a50-4083-ae33-e73d46048041",
   "metadata": {},
   "source": [
    "## Load the data"
   ]
  },
  {
   "cell_type": "code",
   "execution_count": 4,
   "id": "99c67784",
   "metadata": {
    "id": "99c67784"
   },
   "outputs": [],
   "source": [
    "df_600k = pd.read_csv(\"../data/archive/tracks.csv\")\n",
    "df_12m = pd.read_csv(\"../data/archive (1)/tracks_features.csv\")\n",
    "df_11m = pd.read_csv(\"../data/archive (2)/spotify_data.csv\")\n",
    "\n",
    "artists = pd.read_csv(\"../data/archive/artists.csv\")"
   ]
  },
  {
   "cell_type": "markdown",
   "id": "91cc7864-aefe-4cf9-87a2-220dccde97a9",
   "metadata": {},
   "source": [
    "## Data Cleaning"
   ]
  },
  {
   "cell_type": "code",
   "execution_count": 5,
   "id": "9cd0d5bf",
   "metadata": {
    "id": "9cd0d5bf"
   },
   "outputs": [],
   "source": [
    "# Dropping unwanted columns\n",
    "df_11m.drop(\"Unnamed: 0\", axis=1, inplace=True)\n",
    "df_12m.drop([\"album\",\"album_id\",\"track_number\",\"disc_number\",\"release_date\"],axis=1, inplace=True)\n",
    "\n",
    "# Renaming columns for consistency\n",
    "df_11m.rename({\"track_id\":'id'},axis=1, inplace=True)\n",
    "df_11m.rename({'track_name':'name'},axis=1, inplace=True)"
   ]
  },
  {
   "cell_type": "code",
   "execution_count": 6,
   "id": "113872fe",
   "metadata": {
    "id": "113872fe"
   },
   "outputs": [],
   "source": [
    "# Get the first artist only\n",
    "df_600k['artist_name'] = df_600k['artists'].apply(lambda x: x[1:-1].split(\",\")[0][1:-1])\n",
    "df_12m['artist_name'] = df_12m['artists'].apply(lambda x: x[1:-1].split(\",\")[0][1:-1])\n",
    "\n",
    "df_600k['artist_id'] = df_600k['id_artists'].apply(lambda x: x[1:-1].split(\",\")[0][1:-1])\n",
    "df_12m['artist_id'] = df_12m['artist_ids'].apply(lambda x: x[1:-1].split(\",\")[0][1:-1])\n",
    "\n",
    "df_600k.drop(['artists', 'id_artists'],axis=1, inplace=True)\n",
    "df_12m.drop(['artists', 'artist_ids'], axis=1, inplace=True)"
   ]
  },
  {
   "cell_type": "code",
   "execution_count": 7,
   "id": "c91c4fc8",
   "metadata": {
    "id": "c91c4fc8"
   },
   "outputs": [],
   "source": [
    "# Get the song's year\n",
    "df_600k['year'] = df_600k['release_date'].apply(lambda x: x.split('-')[0])\n",
    "\n",
    "df_600k.drop('release_date',axis=1, inplace=True)"
   ]
  },
  {
   "cell_type": "code",
   "execution_count": 8,
   "id": "b4604ec5-6eec-4256-a3c2-060409e6f534",
   "metadata": {},
   "outputs": [],
   "source": [
    "# Concatenate the three dataframes and drop duplicates\n",
    "df_1 = pd.concat([df_600k, df_11m])\n",
    "df_1.drop_duplicates('id',inplace=True)\n",
    "\n",
    "df_2 = pd.concat([df_1, df_12m])\n",
    "df_2.drop_duplicates('id',inplace=True)\n",
    "\n",
    "df_2.drop(columns=['explicit'], inplace=True)"
   ]
  },
  {
   "cell_type": "code",
   "execution_count": 9,
   "id": "d039a3e3",
   "metadata": {
    "id": "d039a3e3"
   },
   "outputs": [],
   "source": [
    "# Get the artist's genres and popularity from the artists dataframe\n",
    "artists_genres = artists[['name','genres','popularity']]\n",
    "artists_genres.rename({'name':'artist_name', 'popularity':'artist_popularity'},axis=1, inplace=True)\n",
    "\n",
    "df = pd.merge(df_2,artists_genres, on='artist_name',how='left')"
   ]
  },
  {
   "cell_type": "code",
   "execution_count": 10,
   "id": "a9bd3a5a-8f81-41a0-a492-8234e6a0e0c2",
   "metadata": {},
   "outputs": [],
   "source": [
    "# Replace the song's popularity with the artist's popularity if it's missing\n",
    "df.loc[df['popularity'].isnull(), 'popularity'] = df.loc[df['popularity'].isnull(), 'artist_popularity']"
   ]
  },
  {
   "cell_type": "code",
   "execution_count": 11,
   "id": "13a47da9-45b8-4880-b69b-497e65081f46",
   "metadata": {},
   "outputs": [
    {
     "data": {
      "text/plain": [
       "167619"
      ]
     },
     "execution_count": 11,
     "metadata": {},
     "output_type": "execute_result"
    }
   ],
   "source": [
    "df['popularity'].isnull().sum()"
   ]
  },
  {
   "cell_type": "code",
   "execution_count": 12,
   "id": "e525aadc-1205-4f39-9b42-1c20762d83d0",
   "metadata": {},
   "outputs": [
    {
     "data": {
      "text/plain": [
       "(3083645, 22)"
      ]
     },
     "execution_count": 12,
     "metadata": {},
     "output_type": "execute_result"
    }
   ],
   "source": [
    "df.shape"
   ]
  },
  {
   "cell_type": "code",
   "execution_count": 13,
   "id": "ac321e99-8d32-4d29-9a80-1d2c03dabced",
   "metadata": {},
   "outputs": [],
   "source": [
    "# Drop records that has no popularity or no genres\n",
    "no_popularity = (df['artist_popularity'].isnull()) & ((df['popularity'].isnull()))\n",
    "no_genre = (df['genres'].isnull() | (df['genres'] == '[]')) & (df['genre'].isnull())\n",
    "\n",
    "mask = (no_popularity|no_genre)\n",
    "\n",
    "df = df.drop(df[mask].index)"
   ]
  },
  {
   "cell_type": "markdown",
   "id": "0cbc366e-555f-4f64-88f4-9271826bc9b4",
   "metadata": {},
   "source": [
    "## Songs' Genres"
   ]
  },
  {
   "cell_type": "code",
   "execution_count": 14,
   "id": "6a073460-958f-48e7-86bb-703b915fef42",
   "metadata": {},
   "outputs": [
    {
     "data": {
      "text/plain": [
       "82"
      ]
     },
     "execution_count": 14,
     "metadata": {},
     "output_type": "execute_result"
    }
   ],
   "source": [
    "original_genres = df['genre'].unique()[1:]\n",
    "len(original_genres)"
   ]
  },
  {
   "cell_type": "markdown",
   "id": "5434664b-900e-49f7-b955-5d479ccae1a4",
   "metadata": {},
   "source": [
    "Since there only a few number of genres in our dataframe, we will use the artists' genres for the songs"
   ]
  },
  {
   "cell_type": "code",
   "execution_count": 15,
   "id": "acc77d80-b371-4bbc-b66b-bfb5ec5b6ef5",
   "metadata": {},
   "outputs": [],
   "source": [
    "# Combine the artist's genre with the song's genres\n",
    "df['genres'].fillna(\"[]\", inplace=True)\n",
    "df['genres'] = df['genres'].apply(ast.literal_eval)\n",
    "df[df['genre'].notnull()]['genres'] = df[df['genre'].notnull()].apply(lambda x: x['genres'].append(x['genre']),axis=1)\n",
    "\n",
    "df.drop(['genre','artist_popularity'],axis=1, inplace=True)"
   ]
  },
  {
   "cell_type": "code",
   "execution_count": 16,
   "id": "fa43624d",
   "metadata": {
    "id": "fa43624d"
   },
   "outputs": [],
   "source": [
    "# Get the most frequent genres\n",
    "genres = [g for genre in df['genres'] for g in genre]\n",
    "genres = Counter(genres)\n",
    "top_200_genres = [genre for genre, count in genres.most_common(200)]"
   ]
  },
  {
   "cell_type": "code",
   "execution_count": 17,
   "id": "2fd90697-707e-49f9-8b38-dfcf52d50635",
   "metadata": {},
   "outputs": [
    {
     "data": {
      "text/plain": [
       "5265"
      ]
     },
     "execution_count": 17,
     "metadata": {},
     "output_type": "execute_result"
    }
   ],
   "source": [
    "len(genres)"
   ]
  },
  {
   "cell_type": "markdown",
   "id": "214e2462-387c-4a3a-af97-e1adef843e0c",
   "metadata": {},
   "source": [
    "Now we have 5265 different genres but we will use the top 200 only"
   ]
  },
  {
   "cell_type": "code",
   "execution_count": 18,
   "id": "06332cba-7beb-4323-9fc1-4388b9a44512",
   "metadata": {},
   "outputs": [
    {
     "data": {
      "image/png": "[encoded data removed]",
      "text/plain": [
       "<Figure size 1500x500 with 1 Axes>"
      ]
     },
     "metadata": {},
     "output_type": "display_data"
    }
   ],
   "source": [
    "# Plot Top Genres\n",
    "top_genres = [genre for genre, freq in genres.most_common(50)]\n",
    "top_freq = [freq for genre, freq in genres.most_common(50)]\n",
    "\n",
    "plt.figure(figsize=(15,5))\n",
    "sns.barplot(x=top_genres, y=top_freq, palette='viridis')\n",
    "plt.title(\"Top Genres\")\n",
    "plt.xticks(rotation=90)\n",
    "plt.show()"
   ]
  },
  {
   "cell_type": "code",
   "execution_count": 19,
   "id": "b2c29ec7",
   "metadata": {
    "id": "b2c29ec7"
   },
   "outputs": [],
   "source": [
    "def filter_top_genres(genre_list, top_genres):\n",
    "    \"\"\"\n",
    "    Filters and expands a list of genres to include all possible combinations of sub-genres and returns only those\n",
    "    genres that are in the top_genres list.\n",
    "\n",
    "    Parameters:\n",
    "    genre_list (list): A list of genre strings.\n",
    "\n",
    "    Returns:\n",
    "    list: A list of genres that are in the top 200 genres.\n",
    "    \"\"\"\n",
    "    new_genre_list = []\n",
    "    \n",
    "    for genre in genre_list:\n",
    "        new_genre_list = new_genre_list + genre.split(\" \")\n",
    "        \n",
    "        # Create combinations of sub-genres\n",
    "        for i in genre.split(\" \"):\n",
    "            for j in genre.split(\" \"):\n",
    "                if i != j:\n",
    "                    new_genre_list.append(f'{i} {j}')\n",
    "\n",
    "    # Filter out only those genres that are in the top_genres list\n",
    "    return [genre for genre in new_genre_list if genre in top_genres]"
   ]
  },
  {
   "cell_type": "code",
   "execution_count": 20,
   "id": "5ae8781a-576f-47a5-9209-78b3d2127d5b",
   "metadata": {},
   "outputs": [
    {
     "data": {
      "text/plain": [
       "(234184, 21)"
      ]
     },
     "execution_count": 20,
     "metadata": {},
     "output_type": "execute_result"
    }
   ],
   "source": [
    "df['new_genres'] = df['genres'].apply(filter_top_genres,top_genres=top_200_genres)\n",
    "df[df['new_genres'].apply(lambda x:len(x) == 0)].shape"
   ]
  },
  {
   "cell_type": "code",
   "execution_count": 21,
   "id": "89f2d6fd",
   "metadata": {
    "id": "89f2d6fd"
   },
   "outputs": [],
   "source": [
    "def most_frequent_word(list_, top=10):\n",
    "    \"\"\"\n",
    "    Identifies the most frequent words in a list of strings.\n",
    "\n",
    "    Parameters:\n",
    "    list_ (list): A list of strings to analyze.\n",
    "    top (int, optional): The number of top most frequent words to return. Default is 10.\n",
    "\n",
    "    Returns:\n",
    "    list: A list of tuples containing the most common words and their counts.\n",
    "    \"\"\"\n",
    "    # Join all strings in the list into a single string\n",
    "    string = ' '.join(list_)\n",
    "    \n",
    "    # Use regex to find all words, converting to lowercase\n",
    "    words = re.findall(r'\\w+', string.lower())\n",
    "    \n",
    "    # Count the frequency of each word\n",
    "    word_counts = Counter(words)\n",
    "    \n",
    "    # Return the top most common words as specified by the 'top' parameter\n",
    "    return word_counts.most_common(top)"
   ]
  },
  {
   "cell_type": "markdown",
   "id": "bd61f977-c967-4669-a376-86bab399064d",
   "metadata": {},
   "source": [
    "Let us now look at the most frequent 100 words in the unassigned genres and pick which ones are worth adding."
   ]
  },
  {
   "cell_type": "code",
   "execution_count": 22,
   "id": "b94e1d22",
   "metadata": {
    "id": "b94e1d22"
   },
   "outputs": [
    {
     "data": {
      "text/plain": [
       "[('indie', 351),\n",
       " ('musica', 71),\n",
       " ('electronic', 54),\n",
       " ('post', 53),\n",
       " ('traditional', 43),\n",
       " ('experimental', 40),\n",
       " ('deep', 28),\n",
       " ('rock', 27),\n",
       " ('music', 23),\n",
       " ('choir', 23),\n",
       " ('punk', 21),\n",
       " ('japanese', 21),\n",
       " ('band', 20),\n",
       " ('neo', 20),\n",
       " ('alternative', 19),\n",
       " ('j', 18),\n",
       " ('worship', 18),\n",
       " ('russian', 17),\n",
       " ('cumbia', 16),\n",
       " ('instrumental', 16),\n",
       " ('folklore', 15),\n",
       " ('new', 15),\n",
       " ('americana', 15),\n",
       " ('irish', 15),\n",
       " ('italian', 15),\n",
       " ('canadian', 14),\n",
       " ('drill', 14),\n",
       " ('bass', 14),\n",
       " ('classic', 14),\n",
       " ('disney', 13),\n",
       " ('dnb', 13),\n",
       " ('chinese', 12),\n",
       " ('modern', 12),\n",
       " ('american', 12),\n",
       " ('pop', 11),\n",
       " ('sound', 11),\n",
       " ('uk', 11),\n",
       " ('dutch', 11),\n",
       " ('s', 11),\n",
       " ('musique', 10),\n",
       " ('australian', 10),\n",
       " ('shoegaze', 10),\n",
       " ('progressive', 10),\n",
       " ('psych', 10),\n",
       " ('brasileiro', 9),\n",
       " ('brazilian', 9),\n",
       " ('polish', 9),\n",
       " ('doom', 9),\n",
       " ('indonesian', 9),\n",
       " ('orchestra', 9),\n",
       " ('vintage', 8),\n",
       " ('prog', 8),\n",
       " ('thrash', 8),\n",
       " ('hardcore', 8),\n",
       " ('children', 8),\n",
       " ('and', 8),\n",
       " ('british', 8),\n",
       " ('quebecois', 7),\n",
       " ('finnish', 7),\n",
       " ('old', 7),\n",
       " ('roots', 7),\n",
       " ('lo', 7),\n",
       " ('gothic', 7),\n",
       " ('synthpop', 7),\n",
       " ('song', 7),\n",
       " ('popular', 7),\n",
       " ('deathcore', 7),\n",
       " ('mexican', 7),\n",
       " ('chanson', 7),\n",
       " ('korean', 7),\n",
       " ('beats', 7),\n",
       " ('christian', 7),\n",
       " ('hard', 6),\n",
       " ('fi', 6),\n",
       " ('world', 6),\n",
       " ('bluegrass', 6),\n",
       " ('wave', 6),\n",
       " ('norwegian', 6),\n",
       " ('brass', 6),\n",
       " ('mexicana', 6),\n",
       " ('psychedelic', 6),\n",
       " ('group', 6),\n",
       " ('reggaeton', 6),\n",
       " ('folclore', 6),\n",
       " ('dark', 6),\n",
       " ('on', 6),\n",
       " ('ccm', 6),\n",
       " ('turkish', 6),\n",
       " ('ensemble', 6),\n",
       " ('brasileira', 6),\n",
       " ('grime', 5),\n",
       " ('nu', 5),\n",
       " ('black', 5),\n",
       " ('anime', 5),\n",
       " ('taiwan', 5),\n",
       " ('atmospheric', 5),\n",
       " ('lagu', 5),\n",
       " ('vocal', 5),\n",
       " ('danish', 5),\n",
       " ('mexicano', 5)]"
      ]
     },
     "execution_count": 22,
     "metadata": {},
     "output_type": "execute_result"
    }
   ],
   "source": [
    "unassigned_genres = list(set([g for genre in df[df['new_genres'].apply(lambda x:len(x) == 0)]['genres'] for g in genre]))\n",
    "most_frequent_word(unassigned_genres,100)"
   ]
  },
  {
   "cell_type": "code",
   "execution_count": 23,
   "id": "d298173d",
   "metadata": {
    "id": "d298173d"
   },
   "outputs": [],
   "source": [
    "additional_genres = ['shoegaze', 'hip hop', 'experimental','psychedelic', 'progressive', 'indie', 'electronic']\n",
    "top_genres = top_200_genres + additional_genres\n",
    "df['new_genres'] = df['genres'].apply(filter_top_genres, top_genres=top_genres)"
   ]
  },
  {
   "cell_type": "code",
   "execution_count": 24,
   "id": "d5090929",
   "metadata": {
    "colab": {
     "base_uri": "https://localhost:8080/"
    },
    "id": "d5090929",
    "outputId": "c2448081-5252-41df-e2f5-df2d2f3a4fff"
   },
   "outputs": [
    {
     "data": {
      "text/plain": [
       "(203203, 21)"
      ]
     },
     "execution_count": 24,
     "metadata": {},
     "output_type": "execute_result"
    }
   ],
   "source": [
    "df[df['new_genres'].apply(lambda x:len(x) == 0)].shape"
   ]
  },
  {
   "cell_type": "code",
   "execution_count": 25,
   "id": "etEA5u569fCO",
   "metadata": {
    "id": "etEA5u569fCO"
   },
   "outputs": [],
   "source": [
    "df.drop(['genres','artist_name','artist_id','name'], axis=1, inplace=True)"
   ]
  },
  {
   "cell_type": "code",
   "execution_count": 26,
   "id": "Ummsjt0eC-G1",
   "metadata": {
    "id": "Ummsjt0eC-G1"
   },
   "outputs": [],
   "source": [
    "# Craete a song Id dictionary for the recommender system\n",
    "df.index = range(len(df))\n",
    "songId_dict = df['id'].to_dict()\n",
    "\n",
    "with open(\"../models/songId.pkl\", 'wb') as file:\n",
    "  pickle.dump(songId_dict, file)"
   ]
  },
  {
   "cell_type": "code",
   "execution_count": 27,
   "id": "oZzMNebUDcdc",
   "metadata": {
    "id": "oZzMNebUDcdc"
   },
   "outputs": [],
   "source": [
    "df.drop('id',axis=1,inplace=True)"
   ]
  },
  {
   "cell_type": "markdown",
   "id": "4441b98f-8c7c-48de-bd61-b6b661478254",
   "metadata": {},
   "source": [
    "## Feature Scaling"
   ]
  },
  {
   "cell_type": "code",
   "execution_count": 28,
   "id": "6q4AZB50Dil6",
   "metadata": {
    "colab": {
     "base_uri": "https://localhost:8080/"
    },
    "id": "6q4AZB50Dil6",
    "outputId": "d5bd6c61-7c1f-4757-cbb7-2633a734b1bf"
   },
   "outputs": [
    {
     "data": {
      "text/plain": [
       "Index(['popularity', 'duration_ms', 'danceability', 'energy', 'key',\n",
       "       'loudness', 'mode', 'speechiness', 'acousticness', 'instrumentalness',\n",
       "       'liveness', 'valence', 'tempo', 'time_signature', 'year'],\n",
       "      dtype='object')"
      ]
     },
     "execution_count": 28,
     "metadata": {},
     "output_type": "execute_result"
    }
   ],
   "source": [
    "columns_to_scale = df.columns[:-1]\n",
    "columns_to_scale"
   ]
  },
  {
   "cell_type": "code",
   "execution_count": 29,
   "id": "HRIsRkJhD7uG",
   "metadata": {
    "id": "HRIsRkJhD7uG"
   },
   "outputs": [],
   "source": [
    "df['year'] = df['year'].astype(int)"
   ]
  },
  {
   "cell_type": "code",
   "execution_count": 30,
   "id": "8Evc2Sx4DLa1",
   "metadata": {
    "id": "8Evc2Sx4DLa1"
   },
   "outputs": [],
   "source": [
    "# Using StandarScaler to scale the numerical features\n",
    "scaler = StandardScaler()\n",
    "scaler.fit(df[columns_to_scale])\n",
    "df[columns_to_scale] = scaler.transform(df[columns_to_scale])"
   ]
  },
  {
   "cell_type": "code",
   "execution_count": 31,
   "id": "823f263c-bf47-46c2-8994-19dde218ae0f",
   "metadata": {},
   "outputs": [
    {
     "data": {
      "text/html": [
       "<div>\n",
       "<style scoped>\n",
       "    .dataframe tbody tr th:only-of-type {\n",
       "        vertical-align: middle;\n",
       "    }\n",
       "\n",
       "    .dataframe tbody tr th {\n",
       "        vertical-align: top;\n",
       "    }\n",
       "\n",
       "    .dataframe thead th {\n",
       "        text-align: right;\n",
       "    }\n",
       "</style>\n",
       "<table border=\"1\" class=\"dataframe\">\n",
       "  <thead>\n",
       "    <tr style=\"text-align: right;\">\n",
       "      <th></th>\n",
       "      <th>popularity</th>\n",
       "      <th>duration_ms</th>\n",
       "      <th>danceability</th>\n",
       "      <th>energy</th>\n",
       "      <th>key</th>\n",
       "      <th>loudness</th>\n",
       "      <th>mode</th>\n",
       "      <th>speechiness</th>\n",
       "      <th>acousticness</th>\n",
       "      <th>instrumentalness</th>\n",
       "      <th>liveness</th>\n",
       "      <th>valence</th>\n",
       "      <th>tempo</th>\n",
       "      <th>time_signature</th>\n",
       "      <th>year</th>\n",
       "    </tr>\n",
       "  </thead>\n",
       "  <tbody>\n",
       "    <tr>\n",
       "      <th>count</th>\n",
       "      <td>2506205.00000</td>\n",
       "      <td>2506205.00000</td>\n",
       "      <td>2506205.00000</td>\n",
       "      <td>2506205.00000</td>\n",
       "      <td>2506205.00000</td>\n",
       "      <td>2506205.00000</td>\n",
       "      <td>2506205.00000</td>\n",
       "      <td>2506205.00000</td>\n",
       "      <td>2506205.00000</td>\n",
       "      <td>2506205.00000</td>\n",
       "      <td>2506205.00000</td>\n",
       "      <td>2506205.00000</td>\n",
       "      <td>2506205.00000</td>\n",
       "      <td>2506205.00000</td>\n",
       "      <td>2506205.00000</td>\n",
       "    </tr>\n",
       "    <tr>\n",
       "      <th>mean</th>\n",
       "      <td>-0.00000</td>\n",
       "      <td>0.00000</td>\n",
       "      <td>-0.00000</td>\n",
       "      <td>-0.00000</td>\n",
       "      <td>0.00000</td>\n",
       "      <td>-0.00000</td>\n",
       "      <td>-0.00000</td>\n",
       "      <td>0.00000</td>\n",
       "      <td>-0.00000</td>\n",
       "      <td>0.00000</td>\n",
       "      <td>0.00000</td>\n",
       "      <td>-0.00000</td>\n",
       "      <td>-0.00000</td>\n",
       "      <td>0.00000</td>\n",
       "      <td>0.00000</td>\n",
       "    </tr>\n",
       "    <tr>\n",
       "      <th>std</th>\n",
       "      <td>1.00000</td>\n",
       "      <td>1.00000</td>\n",
       "      <td>1.00000</td>\n",
       "      <td>1.00000</td>\n",
       "      <td>1.00000</td>\n",
       "      <td>1.00000</td>\n",
       "      <td>1.00000</td>\n",
       "      <td>1.00000</td>\n",
       "      <td>1.00000</td>\n",
       "      <td>1.00000</td>\n",
       "      <td>1.00000</td>\n",
       "      <td>1.00000</td>\n",
       "      <td>1.00000</td>\n",
       "      <td>1.00000</td>\n",
       "      <td>1.00000</td>\n",
       "    </tr>\n",
       "    <tr>\n",
       "      <th>min</th>\n",
       "      <td>-1.30596</td>\n",
       "      <td>-1.65738</td>\n",
       "      <td>-2.81171</td>\n",
       "      <td>-2.02120</td>\n",
       "      <td>-1.48133</td>\n",
       "      <td>-7.83674</td>\n",
       "      <td>-1.36038</td>\n",
       "      <td>-0.68478</td>\n",
       "      <td>-1.05373</td>\n",
       "      <td>-0.66113</td>\n",
       "      <td>-1.11262</td>\n",
       "      <td>-1.69983</td>\n",
       "      <td>-3.94874</td>\n",
       "      <td>-7.67507</td>\n",
       "      <td>-6.93415</td>\n",
       "    </tr>\n",
       "    <tr>\n",
       "      <th>25%</th>\n",
       "      <td>-0.86030</td>\n",
       "      <td>-0.46499</td>\n",
       "      <td>-0.69557</td>\n",
       "      <td>-0.78506</td>\n",
       "      <td>-0.91644</td>\n",
       "      <td>-0.39460</td>\n",
       "      <td>-1.36038</td>\n",
       "      <td>-0.41699</td>\n",
       "      <td>-0.99611</td>\n",
       "      <td>-0.66113</td>\n",
       "      <td>-0.61069</td>\n",
       "      <td>-0.85928</td>\n",
       "      <td>-0.77236</td>\n",
       "      <td>0.26839</td>\n",
       "      <td>-0.30708</td>\n",
       "    </tr>\n",
       "    <tr>\n",
       "      <th>50%</th>\n",
       "      <td>-0.11754</td>\n",
       "      <td>-0.15532</td>\n",
       "      <td>0.07053</td>\n",
       "      <td>0.13151</td>\n",
       "      <td>-0.06911</td>\n",
       "      <td>0.28120</td>\n",
       "      <td>0.73509</td>\n",
       "      <td>-0.33345</td>\n",
       "      <td>-0.31327</td>\n",
       "      <td>-0.65800</td>\n",
       "      <td>-0.43309</td>\n",
       "      <td>-0.04809</td>\n",
       "      <td>0.01704</td>\n",
       "      <td>0.26839</td>\n",
       "      <td>0.21783</td>\n",
       "    </tr>\n",
       "    <tr>\n",
       "      <th>75%</th>\n",
       "      <td>0.67474</td>\n",
       "      <td>0.24379</td>\n",
       "      <td>0.75626</td>\n",
       "      <td>0.87600</td>\n",
       "      <td>0.77822</td>\n",
       "      <td>0.69384</td>\n",
       "      <td>0.73509</td>\n",
       "      <td>-0.07984</td>\n",
       "      <td>1.02493</td>\n",
       "      <td>0.81338</td>\n",
       "      <td>0.31337</td>\n",
       "      <td>0.82183</td>\n",
       "      <td>0.61697</td>\n",
       "      <td>0.26839</td>\n",
       "      <td>0.67714</td>\n",
       "    </tr>\n",
       "    <tr>\n",
       "      <th>max</th>\n",
       "      <td>3.64580</td>\n",
       "      <td>38.87202</td>\n",
       "      <td>2.54561</td>\n",
       "      <td>1.49056</td>\n",
       "      <td>1.62556</td>\n",
       "      <td>2.59699</td>\n",
       "      <td>0.73509</td>\n",
       "      <td>6.55803</td>\n",
       "      <td>1.62807</td>\n",
       "      <td>2.13151</td>\n",
       "      <td>4.03534</td>\n",
       "      <td>1.97071</td>\n",
       "      <td>4.32183</td>\n",
       "      <td>2.25426</td>\n",
       "      <td>1.13644</td>\n",
       "    </tr>\n",
       "  </tbody>\n",
       "</table>\n",
       "</div>"
      ],
      "text/plain": [
       "         popularity   duration_ms  danceability        energy           key  \\\n",
       "count 2506205.00000 2506205.00000 2506205.00000 2506205.00000 2506205.00000   \n",
       "mean       -0.00000       0.00000      -0.00000      -0.00000       0.00000   \n",
       "std         1.00000       1.00000       1.00000       1.00000       1.00000   \n",
       "min        -1.30596      -1.65738      -2.81171      -2.02120      -1.48133   \n",
       "25%        -0.86030      -0.46499      -0.69557      -0.78506      -0.91644   \n",
       "50%        -0.11754      -0.15532       0.07053       0.13151      -0.06911   \n",
       "75%         0.67474       0.24379       0.75626       0.87600       0.77822   \n",
       "max         3.64580      38.87202       2.54561       1.49056       1.62556   \n",
       "\n",
       "           loudness          mode   speechiness  acousticness  \\\n",
       "count 2506205.00000 2506205.00000 2506205.00000 2506205.00000   \n",
       "mean       -0.00000      -0.00000       0.00000      -0.00000   \n",
       "std         1.00000       1.00000       1.00000       1.00000   \n",
       "min        -7.83674      -1.36038      -0.68478      -1.05373   \n",
       "25%        -0.39460      -1.36038      -0.41699      -0.99611   \n",
       "50%         0.28120       0.73509      -0.33345      -0.31327   \n",
       "75%         0.69384       0.73509      -0.07984       1.02493   \n",
       "max         2.59699       0.73509       6.55803       1.62807   \n",
       "\n",
       "       instrumentalness      liveness       valence         tempo  \\\n",
       "count     2506205.00000 2506205.00000 2506205.00000 2506205.00000   \n",
       "mean            0.00000       0.00000      -0.00000      -0.00000   \n",
       "std             1.00000       1.00000       1.00000       1.00000   \n",
       "min            -0.66113      -1.11262      -1.69983      -3.94874   \n",
       "25%            -0.66113      -0.61069      -0.85928      -0.77236   \n",
       "50%            -0.65800      -0.43309      -0.04809       0.01704   \n",
       "75%             0.81338       0.31337       0.82183       0.61697   \n",
       "max             2.13151       4.03534       1.97071       4.32183   \n",
       "\n",
       "       time_signature          year  \n",
       "count   2506205.00000 2506205.00000  \n",
       "mean          0.00000       0.00000  \n",
       "std           1.00000       1.00000  \n",
       "min          -7.67507      -6.93415  \n",
       "25%           0.26839      -0.30708  \n",
       "50%           0.26839       0.21783  \n",
       "75%           0.26839       0.67714  \n",
       "max           2.25426       1.13644  "
      ]
     },
     "execution_count": 31,
     "metadata": {},
     "output_type": "execute_result"
    }
   ],
   "source": [
    "df.describe()"
   ]
  },
  {
   "cell_type": "code",
   "execution_count": 32,
   "id": "BmovQYTaEPcl",
   "metadata": {
    "id": "BmovQYTaEPcl"
   },
   "outputs": [],
   "source": [
    "with open(\"../models/scaler.pkl\", 'wb') as file:\n",
    "  pickle.dump(scaler, file)"
   ]
  },
  {
   "cell_type": "markdown",
   "id": "e7cd51af-8285-4ba8-93be-a0c437a7bd4b",
   "metadata": {},
   "source": [
    "## Encoding Genres"
   ]
  },
  {
   "cell_type": "code",
   "execution_count": 33,
   "id": "v8ML3nN-EqTN",
   "metadata": {
    "id": "v8ML3nN-EqTN"
   },
   "outputs": [],
   "source": [
    "# Using MultilableBinarizer to encode the genres\n",
    "mlb = MultiLabelBinarizer(sparse_output=True)\n",
    "df = df.join(\n",
    "            pd.DataFrame.sparse.from_spmatrix(\n",
    "                mlb.fit_transform(df.pop('new_genres')),\n",
    "                index=df.index,\n",
    "                columns=mlb.classes_))"
   ]
  },
  {
   "cell_type": "code",
   "execution_count": 34,
   "id": "dd9b1cdb-4c7f-48a8-a28f-d9a1e37925d3",
   "metadata": {},
   "outputs": [],
   "source": [
    "with open(\"../models/mlb.pkl\", 'wb') as file:\n",
    "  pickle.dump(mlb, file)"
   ]
  },
  {
   "cell_type": "code",
   "execution_count": 36,
   "id": "zcbVNNxwFlc8",
   "metadata": {
    "colab": {
     "base_uri": "https://localhost:8080/"
    },
    "id": "zcbVNNxwFlc8",
    "outputId": "5b317fa1-f307-4cb9-c572-04349ae42169"
   },
   "outputs": [
    {
     "name": "stdout",
     "output_type": "stream",
     "text": [
      "There are 209 columns and 2506205 rows\n"
     ]
    }
   ],
   "source": [
    "print(f\"There are {df.shape[1]} columns and {df.shape[0]} rows\")"
   ]
  },
  {
   "cell_type": "code",
   "execution_count": 37,
   "id": "by9uDx4LFo6E",
   "metadata": {
    "id": "by9uDx4LFo6E"
   },
   "outputs": [],
   "source": [
    "with open(\"../models/df.pkl\", 'wb') as file:\n",
    "  pickle.dump(df, file)"
   ]
  }
 ],
 "metadata": {
  "colab": {
   "provenance": []
  },
  "kernelspec": {
   "display_name": "Python 3 (ipykernel)",
   "language": "python",
   "name": "python3"
  },
  "language_info": {
   "codemirror_mode": {
    "name": "ipython",
    "version": 3
   },
   "file_extension": ".py",
   "mimetype": "text/x-python",
   "name": "python",
   "nbconvert_exporter": "python",
   "pygments_lexer": "ipython3",
   "version": "3.11.7"
  }
 },
 "nbformat": 4,
 "nbformat_minor": 5
}
